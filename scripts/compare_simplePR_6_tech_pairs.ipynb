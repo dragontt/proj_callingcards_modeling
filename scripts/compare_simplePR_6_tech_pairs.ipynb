{
 "cells": [
  {
   "cell_type": "code",
   "execution_count": 4,
   "metadata": {},
   "outputs": [],
   "source": [
    "def parse_file(filename):\n",
    "    f = open(filename, 'r')\n",
    "    lines = f.readlines()\n",
    "    tfs = lines[0].strip().split('\\t')\n",
    "    auprcs = lines[5].strip().split('\\t')\n",
    "    auprc_dict = {}\n",
    "    for i in range(len(tfs)):\n",
    "        auprc_dict[tfs[i]] = float(auprcs[i])\n",
    "    f.close()\n",
    "    return auprc_dict"
   ]
  },
  {
   "cell_type": "code",
   "execution_count": 17,
   "metadata": {},
   "outputs": [],
   "source": [
    "file_cczev = '../output5/simplePR.CC_v_ZEV.S288C_TFs.top100DE.txt'\n",
    "file_cchols = '../output5/simplePR.CC_v_Holstege.S288C_TFs.top100DE.txt'\n",
    "file_cchu = '../output5/simplePR.CC_v_Hu.S288C_TFs.top100DE.txt'\n",
    "file_chipzev = '../output5/simplePR.ChIP_v_ZEV.S288C_TFs.top100DE.txt'\n",
    "file_chiphols = '../output5/simplePR.ChIP_v_Holstege.top100DE.txt'\n",
    "file_chiphu = '../output5/simplePR.ChIP_v_Hu.top100DE.txt'\n",
    "cczev = parse_file(file_cczev)\n",
    "cchols = parse_file(file_cchols)\n",
    "cchu = parse_file(file_cchu)\n",
    "chipzev = parse_file(file_chipzev)\n",
    "chiphols = parse_file(file_chiphols)\n",
    "chiphu = parse_file(file_chiphu)"
   ]
  },
  {
   "cell_type": "code",
   "execution_count": 20,
   "metadata": {
    "scrolled": false
   },
   "outputs": [
    {
     "name": "stdout",
     "output_type": "stream",
     "text": [
      "tf\tCC_v_ZEV\tCC_v_Hols\tCC_v_Hu\tChIP_v_ZEV\tChIP_v_Hols\tChIP_v_Hu\n",
      "YFR034C\t0.027\t0.021\t0.015\t0.025\t0.018\t0.016\n",
      "YHL020C\t0.019\t0.031\t0.026\t0.035\t0.027\t0.056\n",
      "YJL056C\t0.073\t0.035\t0.042\t0.047\t0.026\t0.016\n",
      "YKL038W\t0.131\t0.050\t0.022\t0.085\t0.036\t0.023\n",
      "YLR403W\t0.016\t0.020\t0.029\t0.017\t0.018\t0.019\n",
      "YLR451W\t0.337\t0.088\t0.063\t0.106\t0.064\t0.076\n",
      "YOL067C\t0.023\t0.072\t0.018\t0.013\t0.013\t0.016\n",
      "YOR032C\t0.017\t0.023\t0.017\t0.018\t0.017\t0.024\n"
     ]
    }
   ],
   "source": [
    "common_tfs = set(cczev.keys()) & set(cchols.keys()) & set(cchu.keys()) & set(chipzev.keys()) & set(chiphols.keys()) & set(chiphu.keys())\n",
    "print 'tf\\tCC_v_ZEV\\tCC_v_Hols\\tCC_v_Hu\\tChIP_v_ZEV\\tChIP_v_Hols\\tChIP_v_Hu'\n",
    "for tf in sorted(list(common_tfs)):\n",
    "    print '%s\\t%.3f\\t%.3f\\t%.3f\\t%.3f\\t%.3f\\t%.3f' % (tf, cczev[tf], cchols[tf], cchu[tf], chipzev[tf], chiphols[tf], chiphu[tf])"
   ]
  },
  {
   "cell_type": "code",
   "execution_count": 21,
   "metadata": {},
   "outputs": [
    {
     "name": "stdout",
     "output_type": "stream",
     "text": [
      "YDR034C\t0.095\t0.093\n"
     ]
    }
   ],
   "source": [
    "tf = 'YDR034C'\n",
    "print '%s\\t%.3f\\t%.3f' % (tf, cczev[tf], cchols[tf])"
   ]
  },
  {
   "cell_type": "code",
   "execution_count": null,
   "metadata": {},
   "outputs": [],
   "source": []
  }
 ],
 "metadata": {
  "kernelspec": {
   "display_name": "Python 2",
   "language": "python",
   "name": "python2"
  },
  "language_info": {
   "codemirror_mode": {
    "name": "ipython",
    "version": 2
   },
   "file_extension": ".py",
   "mimetype": "text/x-python",
   "name": "python",
   "nbconvert_exporter": "python",
   "pygments_lexer": "ipython2",
   "version": "2.7.10"
  }
 },
 "nbformat": 4,
 "nbformat_minor": 2
}
